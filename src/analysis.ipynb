{
 "cells": [
  {
   "cell_type": "markdown",
   "id": "b11e2292",
   "metadata": {},
   "source": [
    "## Turtle Recall (Zindi challenge)"
   ]
  },
  {
   "cell_type": "code",
   "execution_count": 32,
   "id": "379ff691",
   "metadata": {},
   "outputs": [],
   "source": [
    "import pandas as pd\n",
    "import numpy as np\n",
    "import matplotlib as plt\n",
    "import os\n",
    "import cv2 as cv"
   ]
  },
  {
   "cell_type": "code",
   "execution_count": 28,
   "id": "2b399665",
   "metadata": {},
   "outputs": [],
   "source": [
    "# Loading data\n",
    "TRAIN_CSV_PATH = \"../data/train.csv\"\n",
    "TEST_CSV_PATH = \"../data/test.csv\"\n",
    "EXTRA_IMAGES_PATH = \"../data/extra_images.csv\"\n",
    "SAMPLE_SUBMISSION_PATH = \"../data/sample_submission.csv\"\n",
    "IMAGES_PATH = \"../data/images\"\n",
    "\n",
    "# CSV files\n",
    "train_csv = pd.read_csv(TRAIN_CSV_PATH)\n",
    "test_csv  = pd.read_csv(TEST_CSV_PATH)\n",
    "extra_images = pd.read_csv(EXTRA_IMAGES_PATH)\n",
    "sample_submission = pd.read_csv(SAMPLE_SUBMISSION_PATH)\n",
    "\n",
    "# List of images\n",
    "imgs = os.listdir(IMAGES_PATH, )\n",
    "imgs = [os.path.join(IMAGES_PATH, x) for x in imgs]\n"
   ]
  },
  {
   "cell_type": "code",
   "execution_count": 30,
   "id": "dab8d332",
   "metadata": {},
   "outputs": [
    {
     "data": {
      "text/html": [
       "<div>\n",
       "<style scoped>\n",
       "    .dataframe tbody tr th:only-of-type {\n",
       "        vertical-align: middle;\n",
       "    }\n",
       "\n",
       "    .dataframe tbody tr th {\n",
       "        vertical-align: top;\n",
       "    }\n",
       "\n",
       "    .dataframe thead th {\n",
       "        text-align: right;\n",
       "    }\n",
       "</style>\n",
       "<table border=\"1\" class=\"dataframe\">\n",
       "  <thead>\n",
       "    <tr style=\"text-align: right;\">\n",
       "      <th></th>\n",
       "      <th>image_id</th>\n",
       "      <th>image_location</th>\n",
       "      <th>turtle_id</th>\n",
       "    </tr>\n",
       "  </thead>\n",
       "  <tbody>\n",
       "    <tr>\n",
       "      <th>0</th>\n",
       "      <td>ID_2RK4WLN8</td>\n",
       "      <td>top</td>\n",
       "      <td>t_id_VP2NW7aV</td>\n",
       "    </tr>\n",
       "    <tr>\n",
       "      <th>1</th>\n",
       "      <td>ID_VVW0QXLX</td>\n",
       "      <td>left</td>\n",
       "      <td>t_id_qZ0iZYsC</td>\n",
       "    </tr>\n",
       "    <tr>\n",
       "      <th>2</th>\n",
       "      <td>ID_RVATH2HZ</td>\n",
       "      <td>Right</td>\n",
       "      <td>t_id_3b65X5Lw</td>\n",
       "    </tr>\n",
       "    <tr>\n",
       "      <th>3</th>\n",
       "      <td>ID_2GB90GPS</td>\n",
       "      <td>left</td>\n",
       "      <td>t_id_YjXYTCGC</td>\n",
       "    </tr>\n",
       "    <tr>\n",
       "      <th>4</th>\n",
       "      <td>ID_LM6S0B1M</td>\n",
       "      <td>top</td>\n",
       "      <td>t_id_d6aYXtor</td>\n",
       "    </tr>\n",
       "  </tbody>\n",
       "</table>\n",
       "</div>"
      ],
      "text/plain": [
       "      image_id image_location      turtle_id\n",
       "0  ID_2RK4WLN8            top  t_id_VP2NW7aV\n",
       "1  ID_VVW0QXLX           left  t_id_qZ0iZYsC\n",
       "2  ID_RVATH2HZ          Right  t_id_3b65X5Lw\n",
       "3  ID_2GB90GPS           left  t_id_YjXYTCGC\n",
       "4  ID_LM6S0B1M            top  t_id_d6aYXtor"
      ]
     },
     "execution_count": 30,
     "metadata": {},
     "output_type": "execute_result"
    }
   ],
   "source": [
    "train_csv.head()"
   ]
  },
  {
   "cell_type": "code",
   "execution_count": 35,
   "id": "495885af",
   "metadata": {},
   "outputs": [
    {
     "data": {
      "text/plain": [
       "(588, 1024, 3)"
      ]
     },
     "execution_count": 35,
     "metadata": {},
     "output_type": "execute_result"
    }
   ],
   "source": [
    "## Loading an image\n",
    "sample_image = cv.imread(imgs[0])\n",
    "sample_image.shape"
   ]
  }
 ],
 "metadata": {
  "kernelspec": {
   "display_name": "Python 3 (Spyder)",
   "language": "python3",
   "name": "python3"
  },
  "language_info": {
   "codemirror_mode": {
    "name": "ipython",
    "version": 3
   },
   "file_extension": ".py",
   "mimetype": "text/x-python",
   "name": "python",
   "nbconvert_exporter": "python",
   "pygments_lexer": "ipython3",
   "version": "3.8.10"
  }
 },
 "nbformat": 4,
 "nbformat_minor": 5
}
