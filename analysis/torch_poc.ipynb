{
 "cells": [
  {
   "cell_type": "markdown",
   "id": "e668cfc9",
   "metadata": {},
   "source": [
    "# Proof of concept in torch\n",
    "\n",
    "## What we know\n",
    "* Images have different size \n",
    "    -fully convolutional network or resize\n",
    "    - what to do with batch size\n",
    "* Extra images has no labels such as right, left and top\n",
    "* Image position asinput or axuiliary output \n",
    "* Possibly use CapsNet"
   ]
  },
  {
   "cell_type": "code",
   "execution_count": 109,
   "id": "8c1add72",
   "metadata": {},
   "outputs": [],
   "source": [
    "import torch \n",
    "import torch.utils.data as torch_data\n",
    "import torch.nn as nn\n",
    "import torch.optim as optim\n",
    "\n",
    "import torchvision.io as io\n",
    "import torchvision.transforms as T\n",
    "\n",
    "import pandas as pd\n",
    "import os\n",
    "\n",
    "import numpy as np\n",
    "from tqdm import tqdm"
   ]
  },
  {
   "cell_type": "code",
   "execution_count": 58,
   "id": "88a60430",
   "metadata": {},
   "outputs": [],
   "source": [
    "# Loading data\n",
    "TRAIN_CSV_PATH = \"../data/train.csv\"\n",
    "TEST_CSV_PATH = \"../data/test.csv\"\n",
    "EXTRA_IMAGES_PATH = \"../data/extra_images.csv\"\n",
    "SAMPLE_SUBMISSION_PATH = \"../data/sample_submission.csv\"\n",
    "IMAGES_PATH = \"../data/images\""
   ]
  },
  {
   "cell_type": "code",
   "execution_count": 5,
   "id": "d5a9a6eb",
   "metadata": {},
   "outputs": [],
   "source": [
    "# Label map\n",
    "train_csv = pd.read_csv(TRAIN_CSV_PATH)\n",
    "# test_csv  = pd.read_csv(TEST_CSV_PATH)\n",
    "extra_images = pd.read_csv(EXTRA_IMAGES_PATH)\n",
    "\n",
    "all_imgs = pd.concat([train_csv, extra_images])"
   ]
  },
  {
   "cell_type": "code",
   "execution_count": 6,
   "id": "85766b33",
   "metadata": {},
   "outputs": [
    {
     "data": {
      "text/plain": [
       "2266"
      ]
     },
     "execution_count": 6,
     "metadata": {},
     "output_type": "execute_result"
    }
   ],
   "source": [
    "unique_ids = set(all_imgs.turtle_id)\n",
    "len(unique_ids)\n",
    "# filtered_set = [x for x in unique_ids if not np.isnan(x)]\n",
    "all_labels = list(unique_ids)\n",
    "all_labels.append(\"new_turtle\")\n",
    "len(all_labels)"
   ]
  },
  {
   "cell_type": "code",
   "execution_count": 5,
   "id": "73adca25",
   "metadata": {},
   "outputs": [],
   "source": [
    "# 't_id_WLAIJIZ0' in unique_ids\n",
    "# str('nan') in unique_ids"
   ]
  },
  {
   "cell_type": "code",
   "execution_count": 40,
   "id": "146490e1",
   "metadata": {},
   "outputs": [],
   "source": [
    "# str('nan')\n",
    "def get_target_by_turtle_id(turtle_id):\n",
    "    idx = all_labels.index(turtle_id)\n",
    "    return get_target_vector(idx)\n",
    "\n",
    "\n",
    "def get_target_vector(idx):\n",
    "    vec = torch.tensor(np.zeros(2266))\n",
    "    vec[idx] = 1\n",
    "    return vec"
   ]
  },
  {
   "cell_type": "code",
   "execution_count": 92,
   "id": "3284b464",
   "metadata": {},
   "outputs": [],
   "source": [
    "class TurtleDataset(torch_data.Dataset):\n",
    "    \n",
    "    def __init__(self, img_labels, img_dir, \n",
    "                 img_transform = None, transform_target = None):\n",
    "        self.img_labels = pd.read_csv(img_labels)\n",
    "        self.img_dir = img_dir\n",
    "        self.img_transform = img_transform\n",
    "        self.transform_target = transform_target\n",
    "   \n",
    "    def __len__(self):\n",
    "        return len(self.img_labels)\n",
    "    \n",
    "    def __getitem__(self, idx):\n",
    "        # Image path\n",
    "        img_id = self.img_labels.iloc[idx, 0] # First col\n",
    "        img_filename = img_id + \".JPG\"\n",
    "        img_path = os.path.join(self.img_dir, img_filename)\n",
    "        \n",
    "        # Reading an image\n",
    "        image = io.read_image(img_path)\n",
    "        image_location = self.img_labels.iloc[idx, 1]\n",
    "        turtle_id = self.img_labels.iloc[idx, 2]\n",
    "        \n",
    "        if self.img_transform:\n",
    "            image = self.img_transform(image)\n",
    "        if self.transform_target:\n",
    "            label = self.transform_target(label)\n",
    "        \n",
    "        return (image.to(torch.float) / 255).cuda(), image_location, get_target_by_turtle_id(turtle_id).cuda()        "
   ]
  },
  {
   "cell_type": "code",
   "execution_count": 93,
   "id": "219584f1",
   "metadata": {},
   "outputs": [],
   "source": [
    "transform = T.Compose([\n",
    "    T.Resize((250, 250))\n",
    "])\n",
    "\n",
    "turtle_dataset = TurtleDataset(\n",
    "    img_labels = TRAIN_CSV_PATH,\n",
    "    img_dir = IMAGES_PATH,\n",
    "    img_transform = transform\n",
    ")"
   ]
  },
  {
   "cell_type": "code",
   "execution_count": 94,
   "id": "dbfd5e2b",
   "metadata": {},
   "outputs": [],
   "source": [
    "img, pos, lbl = turtle_dataset[0]"
   ]
  },
  {
   "cell_type": "code",
   "execution_count": 95,
   "id": "2b775fd2",
   "metadata": {},
   "outputs": [
    {
     "data": {
      "text/plain": [
       "torch.float32"
      ]
     },
     "execution_count": 95,
     "metadata": {},
     "output_type": "execute_result"
    }
   ],
   "source": [
    "img.dtype"
   ]
  },
  {
   "cell_type": "code",
   "execution_count": 121,
   "id": "4163df22",
   "metadata": {},
   "outputs": [],
   "source": [
    "train_turtle_dl = torch_data.DataLoader(turtle_dataset, batch_size=32, shuffle=True, drop_last=True)"
   ]
  },
  {
   "cell_type": "markdown",
   "id": "ad6b2a5b",
   "metadata": {},
   "source": [
    "## Sample architecture"
   ]
  },
  {
   "cell_type": "code",
   "execution_count": 122,
   "id": "9ce90968",
   "metadata": {},
   "outputs": [],
   "source": [
    "turtle_net_1 = nn.Sequential(\n",
    "        nn.Conv2d(3, 10, (3, 3)),\n",
    "        nn.ReLU(),\n",
    "        nn.MaxPool2d(3, stride = 2),  \n",
    "        nn.Conv2d(10, 100, (3, 3), stride=2),\n",
    "        nn.ReLU(),\n",
    "        nn.MaxPool2d(3, stride = 2),\n",
    "        nn.Conv2d(100, 1000, (3, 3), stride=2),\n",
    "        nn.ReLU(),\n",
    "        nn.MaxPool2d(3, stride = 2),\n",
    "        nn.Conv2d(1000, 1500, (3, 3), stride=2),\n",
    "        nn.ReLU(),\n",
    "        nn.Conv2d(1500, 2266, (2, 2), stride=2),\n",
    "        nn.Softmax(1)\n",
    "    ).cuda()"
   ]
  },
  {
   "cell_type": "code",
   "execution_count": 123,
   "id": "85dd2a63",
   "metadata": {},
   "outputs": [],
   "source": [
    "img, pos, turtle_id = next(iter(train_turtle_dl))"
   ]
  },
  {
   "cell_type": "code",
   "execution_count": 62,
   "id": "73b67547",
   "metadata": {},
   "outputs": [],
   "source": [
    "# sample_tensor = sample_batch[0]"
   ]
  },
  {
   "cell_type": "code",
   "execution_count": 124,
   "id": "214dd9f4",
   "metadata": {},
   "outputs": [],
   "source": [
    "# torch.cuda.empty_cache()\n",
    "out = turtle_net_1(sample_img)"
   ]
  },
  {
   "cell_type": "code",
   "execution_count": 125,
   "id": "1c28dd74",
   "metadata": {},
   "outputs": [
    {
     "data": {
      "text/plain": [
       "torch.Size([32, 2266])"
      ]
     },
     "execution_count": 125,
     "metadata": {},
     "output_type": "execute_result"
    }
   ],
   "source": [
    "out.squeeze().shape\n",
    "# get_target_by_turtle_id('t_id_F5eaYH2N')\n",
    "# get_target_by_turtle_id('new_turtle')"
   ]
  },
  {
   "cell_type": "code",
   "execution_count": 31,
   "id": "b8eeabfc",
   "metadata": {},
   "outputs": [],
   "source": [
    "# torch.cuda.empty_cache()\n",
    "# del turtle_net_1"
   ]
  },
  {
   "cell_type": "code",
   "execution_count": 126,
   "id": "7a99222d",
   "metadata": {},
   "outputs": [],
   "source": [
    "# Training loop\n",
    "\n",
    "optimizer = optim.Adam(turtle_net_1.parameters())\n",
    "loss_fun = nn.CrossEntropyLoss()\n",
    "\n",
    "epochs = 5"
   ]
  },
  {
   "cell_type": "code",
   "execution_count": 128,
   "id": "2d9dab12",
   "metadata": {},
   "outputs": [
    {
     "name": "stderr",
     "output_type": "stream",
     "text": [
      "100%|██████████| 67/67 [00:31<00:00,  2.13it/s]\n"
     ]
    },
    {
     "name": "stdout",
     "output_type": "stream",
     "text": [
      "Epoch 1 \t\t Training Loss: 7.690615419131606\n"
     ]
    },
    {
     "name": "stderr",
     "output_type": "stream",
     "text": [
      "100%|██████████| 67/67 [00:31<00:00,  2.12it/s]\n"
     ]
    },
    {
     "name": "stdout",
     "output_type": "stream",
     "text": [
      "Epoch 2 \t\t Training Loss: 7.690615419131606\n"
     ]
    },
    {
     "name": "stderr",
     "output_type": "stream",
     "text": [
      "100%|██████████| 67/67 [00:31<00:00,  2.16it/s]\n"
     ]
    },
    {
     "name": "stdout",
     "output_type": "stream",
     "text": [
      "Epoch 3 \t\t Training Loss: 7.690615419131606\n"
     ]
    },
    {
     "name": "stderr",
     "output_type": "stream",
     "text": [
      "100%|██████████| 67/67 [00:32<00:00,  2.08it/s]\n"
     ]
    },
    {
     "name": "stdout",
     "output_type": "stream",
     "text": [
      "Epoch 4 \t\t Training Loss: 7.690615419131606\n"
     ]
    },
    {
     "name": "stderr",
     "output_type": "stream",
     "text": [
      "100%|██████████| 67/67 [00:33<00:00,  2.02it/s]"
     ]
    },
    {
     "name": "stdout",
     "output_type": "stream",
     "text": [
      "Epoch 5 \t\t Training Loss: 7.690615419131606\n"
     ]
    },
    {
     "name": "stderr",
     "output_type": "stream",
     "text": [
      "\n"
     ]
    }
   ],
   "source": [
    "for e in range(epochs):\n",
    "    train_loss = 0.0\n",
    "    for img, pos, turtle_id in tqdm(train_turtle_dl):\n",
    "        \n",
    "        # Clear the gradients\n",
    "        optimizer.zero_grad()\n",
    "        # Forward Pass\n",
    "        target = turtle_net_1(img).squeeze()\n",
    "        # Find the Loss\n",
    "        # print(target.shape, turtle_id.shape)\n",
    "        loss = loss_fun(target, turtle_id)\n",
    "        # Calculate gradients \n",
    "        loss.backward()\n",
    "        # Update Weights\n",
    "        optimizer.step()\n",
    "        # Calculate Loss\n",
    "        train_loss += loss.item()\n",
    "    \n",
    "    print(f'Epoch {e+1} \\t\\t Training Loss: {train_loss / len(train_turtle_dl)}')"
   ]
  },
  {
   "cell_type": "code",
   "execution_count": 114,
   "id": "3036c81b",
   "metadata": {},
   "outputs": [
    {
     "data": {
      "text/plain": [
       "ReLU()"
      ]
     },
     "execution_count": 114,
     "metadata": {},
     "output_type": "execute_result"
    }
   ],
   "source": [
    "nn.ReLU()"
   ]
  },
  {
   "cell_type": "code",
   "execution_count": 102,
   "id": "210446cd",
   "metadata": {},
   "outputs": [],
   "source": [
    "optimizer.zero_grad()\n",
    "# Forward Pass\n",
    "target = turtle_net_1(img).squeeze()\n",
    "# Find the Loss\n",
    "loss = loss_fun(target, turtle_id)\n",
    "# Calculate gradients \n",
    "loss.backward()\n",
    "# Update Weights\n",
    "optimizer.step()\n",
    "# Calculate Loss\n",
    "# train_loss += loss.item()"
   ]
  },
  {
   "cell_type": "code",
   "execution_count": null,
   "id": "f3210cb4",
   "metadata": {},
   "outputs": [],
   "source": []
  }
 ],
 "metadata": {
  "kernelspec": {
   "display_name": "Python 3 (Spyder)",
   "language": "python3",
   "name": "python3"
  },
  "language_info": {
   "codemirror_mode": {
    "name": "ipython",
    "version": 3
   },
   "file_extension": ".py",
   "mimetype": "text/x-python",
   "name": "python",
   "nbconvert_exporter": "python",
   "pygments_lexer": "ipython3",
   "version": "3.8.10"
  }
 },
 "nbformat": 4,
 "nbformat_minor": 5
}
