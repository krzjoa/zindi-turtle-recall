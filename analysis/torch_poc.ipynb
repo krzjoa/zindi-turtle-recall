{
 "cells": [
  {
   "cell_type": "markdown",
   "id": "69ab6111",
   "metadata": {},
   "source": [
    "# Proof of concept in torch\n",
    "\n",
    "## What we know\n",
    "* Images have different size \n",
    "    -fully convolutional network or resize\n",
    "    - what to do with batch size\n",
    "* Extra images has no labels such as right, left and top\n",
    "* Image position asinput or axuiliary output \n",
    "* Possibly use CapsNet"
   ]
  },
  {
   "cell_type": "code",
   "execution_count": 155,
   "id": "2a5e8da0",
   "metadata": {},
   "outputs": [],
   "source": [
    "import torch \n",
    "import torch.utils.data as torch_data\n",
    "import torch.nn as nn\n",
    "\n",
    "import torchvision.io as io\n",
    "import torchvision.transforms as T\n",
    "\n",
    "import pandas as pd\n",
    "import os\n",
    "\n",
    "import numpy as np"
   ]
  },
  {
   "cell_type": "code",
   "execution_count": 36,
   "id": "1a4ba6b0",
   "metadata": {},
   "outputs": [],
   "source": [
    "# Loading data\n",
    "TRAIN_CSV_PATH = \"../data/train.csv\"\n",
    "TEST_CSV_PATH = \"../data/test.csv\"\n",
    "EXTRA_IMAGES_PATH = \"../data/extra_images.csv\"\n",
    "SAMPLE_SUBMISSION_PATH = \"../data/sample_submission.csv\"\n",
    "IMAGES_PATH = \"../data/images\""
   ]
  },
  {
   "cell_type": "code",
   "execution_count": 162,
   "id": "f118c2bc",
   "metadata": {},
   "outputs": [],
   "source": [
    "# Label map\n",
    "train_csv = pd.read_csv(TRAIN_CSV_PATH)\n",
    "# test_csv  = pd.read_csv(TEST_CSV_PATH)\n",
    "extra_images = pd.read_csv(EXTRA_IMAGES_PATH)\n",
    "\n",
    "all_imgs = pd.concat([train_csv, extra_images])"
   ]
  },
  {
   "cell_type": "code",
   "execution_count": 171,
   "id": "165b1f3c",
   "metadata": {},
   "outputs": [
    {
     "data": {
      "text/plain": [
       "2266"
      ]
     },
     "execution_count": 171,
     "metadata": {},
     "output_type": "execute_result"
    }
   ],
   "source": [
    "unique_ids = set(all_imgs.turtle_id)\n",
    "len(unique_ids)\n",
    "# filtered_set = [x for x in unique_ids if not np.isnan(x)]\n",
    "all_labels = list(unique_ids)\n",
    "all_labels.append(\"new_turtle\")\n",
    "len(all_labels)"
   ]
  },
  {
   "cell_type": "code",
   "execution_count": 170,
   "id": "9addd614",
   "metadata": {},
   "outputs": [
    {
     "data": {
      "text/plain": [
       "False"
      ]
     },
     "execution_count": 170,
     "metadata": {},
     "output_type": "execute_result"
    }
   ],
   "source": [
    "'t_id_WLAIJIZ0' in unique_ids\n",
    "str('nan') in unique_ids"
   ]
  },
  {
   "cell_type": "code",
   "execution_count": 153,
   "id": "65dc5115",
   "metadata": {},
   "outputs": [
    {
     "data": {
      "text/plain": [
       "'nan'"
      ]
     },
     "execution_count": 153,
     "metadata": {},
     "output_type": "execute_result"
    }
   ],
   "source": [
    "str('nan')"
   ]
  },
  {
   "cell_type": "code",
   "execution_count": 179,
   "id": "ee945241",
   "metadata": {},
   "outputs": [],
   "source": [
    "class TurtleDataset(torch_data.Dataset):\n",
    "    \n",
    "    def __init__(self, img_labels, img_dir, \n",
    "                 img_transform = None, transform_target = None):\n",
    "        self.img_labels = pd.read_csv(img_labels)\n",
    "        self.img_dir = img_dir\n",
    "        self.img_transform = img_transform\n",
    "        self.transform_target = transform_target\n",
    "   \n",
    "    def __len__(self):\n",
    "        return len(self.img_labels)\n",
    "    \n",
    "    def __getitem__(self, idx):\n",
    "        # Image path\n",
    "        img_id = self.img_labels.iloc[idx, 0] # First col\n",
    "        img_filename = img_id + \".JPG\"\n",
    "        img_path = os.path.join(self.img_dir, img_filename)\n",
    "        \n",
    "        # Reading an image\n",
    "        image = io.read_image(img_path)\n",
    "        image_location = self.img_labels.iloc[idx, 1]\n",
    "        turtle_id = self.img_labels.iloc[idx, 2]\n",
    "        \n",
    "        if self.img_transform:\n",
    "            image = self.img_transform(image)\n",
    "        if self.transform_target:\n",
    "            label = self.transform_target(label)\n",
    "        \n",
    "        return (image.to(torch.float) / 255).cuda(), image_location, turtle_id        "
   ]
  },
  {
   "cell_type": "code",
   "execution_count": 185,
   "id": "1e57cb7d",
   "metadata": {},
   "outputs": [],
   "source": [
    "transform = T.Compose([\n",
    "    T.Resize((500, 500))\n",
    "])\n",
    "\n",
    "turtle_dataset = TurtleDataset(\n",
    "    img_labels = TRAIN_CSV_PATH,\n",
    "    img_dir = IMAGES_PATH,\n",
    "    img_transform = transform\n",
    ")"
   ]
  },
  {
   "cell_type": "code",
   "execution_count": 186,
   "id": "efa64a42",
   "metadata": {},
   "outputs": [],
   "source": [
    "img, pos, lbl = turtle_dataset[0]"
   ]
  },
  {
   "cell_type": "code",
   "execution_count": 107,
   "id": "8a81e585",
   "metadata": {},
   "outputs": [
    {
     "data": {
      "text/plain": [
       "torch.float32"
      ]
     },
     "execution_count": 107,
     "metadata": {},
     "output_type": "execute_result"
    }
   ],
   "source": [
    "img.dtype"
   ]
  },
  {
   "cell_type": "code",
   "execution_count": 187,
   "id": "299e8cc3",
   "metadata": {},
   "outputs": [],
   "source": [
    "train_turtle_dl = torch_data.DataLoader(turtle_dataset, batch_size=32, shuffle = True)"
   ]
  },
  {
   "cell_type": "markdown",
   "id": "1e0f2056",
   "metadata": {},
   "source": [
    "## Sample architecture"
   ]
  },
  {
   "cell_type": "code",
   "execution_count": 181,
   "id": "0c7e9bc5",
   "metadata": {},
   "outputs": [],
   "source": [
    "turtle_net_1 = nn.Sequential(\n",
    "        nn.Conv2d(3, 10, (3, 3)),\n",
    "        nn.Conv2d(10, 100, (3, 3), stride=2),\n",
    "        nn.Conv2d(100, 1000, (3, 3), stride=2),\n",
    "        nn.Conv2d(1000, 2266, (3, 3), stride=2)\n",
    "    ).cuda()"
   ]
  },
  {
   "cell_type": "code",
   "execution_count": 189,
   "id": "505a26b8",
   "metadata": {},
   "outputs": [],
   "source": [
    "sample_batch = next(iter(train_turtle_dl))"
   ]
  },
  {
   "cell_type": "code",
   "execution_count": 190,
   "id": "d4b8fea9",
   "metadata": {},
   "outputs": [],
   "source": [
    "sample_tensor = sample_batch[0]"
   ]
  },
  {
   "cell_type": "code",
   "execution_count": 191,
   "id": "44fe5e82",
   "metadata": {},
   "outputs": [],
   "source": [
    "out = turtle_net_1(sample_tensor)"
   ]
  },
  {
   "cell_type": "code",
   "execution_count": 178,
   "id": "6f0336b8",
   "metadata": {},
   "outputs": [
    {
     "data": {
      "text/plain": [
       "torch.Size([2266, 61, 61])"
      ]
     },
     "execution_count": 178,
     "metadata": {},
     "output_type": "execute_result"
    }
   ],
   "source": [
    "out[1].shape"
   ]
  },
  {
   "cell_type": "code",
   "execution_count": null,
   "id": "98720cd7",
   "metadata": {},
   "outputs": [],
   "source": []
  }
 ],
 "metadata": {
  "kernelspec": {
   "display_name": "Python 3 (Spyder)",
   "language": "python3",
   "name": "python3"
  },
  "language_info": {
   "codemirror_mode": {
    "name": "ipython",
    "version": 3
   },
   "file_extension": ".py",
   "mimetype": "text/x-python",
   "name": "python",
   "nbconvert_exporter": "python",
   "pygments_lexer": "ipython3",
   "version": "3.8.10"
  }
 },
 "nbformat": 4,
 "nbformat_minor": 5
}
